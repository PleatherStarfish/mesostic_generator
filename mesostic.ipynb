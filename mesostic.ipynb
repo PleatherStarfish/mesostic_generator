{
 "cells": [
  {
   "cell_type": "code",
   "execution_count": 5,
   "metadata": {},
   "outputs": [
    {
     "name": "stdout",
     "output_type": "stream",
     "text": [
      "The ultimate aim of guerrilla warfare is certainly to d\n",
      "disa\n",
      "arm the en\n",
      "nemy to destroy hi\n",
      "is fighting stre\n",
      "ength to get back the territories he has occupied and to save our brethren whom he is trampl\n",
      "ling under foot But when because of objective circum\n",
      "mstances and other factors of vari\n",
      "ious kinds it is impossibl\n",
      "l\n",
      "le\n",
      "e to attain this goal it sometimes happens that the ar\n"
     ]
    }
   ],
   "source": [
    "text = \"\"\"The ultimate aim of guerrilla warfare is certainly to disarm the \\\n",
    "enemy to destroy his fighting strength to get back the territories he has \\\n",
    "occupied and to save our brethren whom he is trampling under foot But when \\\n",
    "because of objective circumstances and other factors of various kinds it is \\\n",
    "impossible to attain this goal it sometimes happens that the areas unaffected \\\n",
    "by the fighting  are controlled by the enemy in all tranquility This should  \\\n",
    "not be Because of this possibility we must think up methods for inflicting \\\n",
    "economic and political damage in these areas and destroying communication \\\n",
    "facilities so that although the enemy has occupied our territory it is of no \\\n",
    "use to him and he decides to withdraw on his own initiative In guerrilla \\\n",
    "warfare we must observe the principle To gain territory is no cause for joy \\\n",
    "and to lose territory is no cause for sorrow To lose territory or cities is \\\n",
    "of no importance The important thing is to think up methods for destroying \\\n",
    "the enemy If the enemys effective strength is undiminished even if we take \\\n",
    "cities we will be unable to hold them Conversely when our own forces are \\\n",
    "insufficient if we give up the cities we still have hope of regaining them \\\n",
    "It is altogether improper to defend cities to the utmost for this merely \\\n",
    "leads to sacrificing our own effective strength\"\"\"\n",
    "\n",
    "keyword = \"DanielMiller\"\n",
    "\n",
    "lastMatchIndex = 0\n",
    "\n",
    "def match_letters(letter1, letter2):\n",
    "    if (((letter1.upper() == letter2) or (letter1.lower() == letter2)) \n",
    "                                                    and (letter1.isalpha())):\n",
    "        return True\n",
    "    else:\n",
    "        return False\n",
    "\n",
    "def hundred_percent_rule(text, keyword, keywordIndex, textIndex):\n",
    "    global lastMatchIndex\n",
    "    # if first hit in the text, return text from the begining (including letter)\n",
    "    chunk =  text[lastMatchIndex : textIndex + 1]\n",
    "    lastMatchIndex = textIndex\n",
    "    return chunk\n",
    "\n",
    "    \n",
    "i = 0 # keyword index\n",
    "j = 0 # text index\n",
    "while i < len(keyword):         # loop through the keyword\n",
    "    \n",
    "    while j < len(text):        # loop through the text\n",
    "        \n",
    "        if match_letters(keyword[i], text[j]):  # do they match?\n",
    "            hit = hundred_percent_rule(text, keyword, i, j)\n",
    "            print(hit)\n",
    "            i += 1\n",
    "            break\n",
    "        else:\n",
    "            j += 1 \n",
    "        "
   ]
  }
 ],
 "metadata": {
  "kernelspec": {
   "display_name": "Python 3",
   "language": "python",
   "name": "python3"
  },
  "language_info": {
   "codemirror_mode": {
    "name": "ipython",
    "version": 3
   },
   "file_extension": ".py",
   "mimetype": "text/x-python",
   "name": "python",
   "nbconvert_exporter": "python",
   "pygments_lexer": "ipython3",
   "version": "3.6.5"
  }
 },
 "nbformat": 4,
 "nbformat_minor": 2
}
